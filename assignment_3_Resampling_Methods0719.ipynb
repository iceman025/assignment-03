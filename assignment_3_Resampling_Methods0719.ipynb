{
  "nbformat": 4,
  "nbformat_minor": 0,
  "metadata": {
    "colab": {
      "name": "assignment 3-Resampling_Methods0719.ipynb",
      "provenance": [],
      "collapsed_sections": [],
      "include_colab_link": true
    },
    "kernelspec": {
      "name": "ir",
      "display_name": "R"
    },
    "language_info": {
      "name": "R"
    }
  },
  "cells": [
    {
      "cell_type": "markdown",
      "metadata": {
        "id": "view-in-github",
        "colab_type": "text"
      },
      "source": [
        "<a href=\"https://colab.research.google.com/github/iceman025/assignment-03/blob/main/assignment_3_Resampling_Methods0719.ipynb\" target=\"_parent\"><img src=\"https://colab.research.google.com/assets/colab-badge.svg\" alt=\"Open In Colab\"/></a>"
      ]
    },
    {
      "cell_type": "code",
      "execution_count": 24,
      "metadata": {
        "id": "bOF0UkXVQu42",
        "colab": {
          "base_uri": "https://localhost:8080/"
        },
        "outputId": "da004661-1bde-4b75-cf15-87276b056a7f"
      },
      "outputs": [
        {
          "output_type": "stream",
          "name": "stderr",
          "text": [
            "Installing package into ‘/usr/local/lib/R/site-library’\n",
            "(as ‘lib’ is unspecified)\n",
            "\n",
            "Installing package into ‘/usr/local/lib/R/site-library’\n",
            "(as ‘lib’ is unspecified)\n",
            "\n",
            "Installing package into ‘/usr/local/lib/R/site-library’\n",
            "(as ‘lib’ is unspecified)\n",
            "\n"
          ]
        }
      ],
      "source": [
        "# load pachages\n",
        "library(readr)\n",
        "library(dplyr)\n",
        "library(tidyr)\n",
        "library(ggplot2)\n",
        "library(readxl)\n",
        "install.packages(\"ISLR\")\n",
        "library (ISLR)\n",
        "library(tidyverse)\n",
        "install.packages(\"datarium\")\n",
        "install.packages(\"ISLR2\")\n",
        "library(ISLR2)"
      ]
    },
    {
      "cell_type": "markdown",
      "source": [
        "1. analysis of diamond data set"
      ],
      "metadata": {
        "id": "oUoN9Lf5DsEz"
      }
    },
    {
      "cell_type": "code",
      "source": [
        "# data import and cleaning of diamond\n",
        "df_diamond <- read_xlsx(\"/content/MBA6636_SM21_Professor_Proposes_Data.xlsx\")\n",
        "summary(df_diamond)\n",
        "glimpse(df_diamond)"
      ],
      "metadata": {
        "id": "mHAFv3HERFD8"
      },
      "execution_count": null,
      "outputs": []
    },
    {
      "cell_type": "code",
      "source": [
        "# full regression model building of diamond data set\n",
        "lm1= lm(log(Price)~ log(Carat) + Cut+Colour+Clarity, data=df_diamond)\n",
        "summary(lm1)\n"
      ],
      "metadata": {
        "id": "sFMK3VfgdqP6"
      },
      "execution_count": null,
      "outputs": []
    },
    {
      "cell_type": "code",
      "source": [
        "# predition of diamond price\n",
        "ProfessorDiamond <- data.frame(Carat=0.9,Cut=\"V\",\n",
        "                               Colour=\"J\",Clarity=\"SI2\")\n",
        "modelEstimate = predict(lm1, newdata = ProfessorDiamond,\n",
        "                          interval=\"prediction\",level = .95) \n",
        "modelEstimate\n",
        "exp(modelEstimate)"
      ],
      "metadata": {
        "id": "BX90vOMPwb5_"
      },
      "execution_count": null,
      "outputs": []
    },
    {
      "cell_type": "code",
      "source": [
        "# data split of diamond\n",
        "rows <- sample(nrow(df_diamond))\n",
        "diamonds <- df_diamond[rows, ]\n",
        "split <- round(nrow(df_diamond) * .80)\n",
        "train <- df_diamond[1:split, ]\n",
        "test <- df_diamond[(split + 1):nrow(df_diamond), ]\n"
      ],
      "metadata": {
        "id": "9Vj5PKIXzzoZ"
      },
      "execution_count": null,
      "outputs": []
    },
    {
      "cell_type": "code",
      "source": [
        "# regression model of train data of diamond\n",
        "lm2 =lm(formula = log(Price) ~ log(Carat) + Cut + Colour + Clarity, \n",
        "     data=train)\n",
        "     summary(lm2)\n",
        "     # print lm2\n",
        "     lm2"
      ],
      "metadata": {
        "id": "soO_h0P92o05"
      },
      "execution_count": null,
      "outputs": []
    },
    {
      "cell_type": "code",
      "source": [
        "# price prediction of test data of diamond\n",
        "modelEstimate2 = predict(lm2, subset= test,\n",
        "                          interval=\"prediction\",level = .95) \n",
        "modelEstimate2\n",
        "exp(modelEstimate2)"
      ],
      "metadata": {
        "id": "zciXPPZgwgTu"
      },
      "execution_count": null,
      "outputs": []
    },
    {
      "cell_type": "code",
      "source": [
        "install.packages(\"ISLR2\")\n",
        "library(ISLR2)\n",
        "set.seed (1)\n",
        "train <- sample (440 , 220)"
      ],
      "metadata": {
        "id": "T_ktAUykx_53"
      },
      "execution_count": null,
      "outputs": []
    },
    {
      "cell_type": "code",
      "source": [
        "# The Validation Set Approach of diamond\n",
        "install.packages(\"ISLR2\")\n",
        "library(ISLR2)\n",
        "set.seed (1)\n",
        "train <- sample (440 , 220)\n",
        "# calculate the MSE of the observations in the validation set of diamond\n",
        "model_summ <-summary(lm2)\n",
        "mean(model_summ$residuals^2)"
      ],
      "metadata": {
        "id": "45GllwXv2bKG"
      },
      "execution_count": null,
      "outputs": []
    },
    {
      "cell_type": "code",
      "source": [
        "install.packages(\"rsample\")\n",
        "library(rsample)\n",
        "install.packages(\"caret\")\n",
        "library(caret)"
      ],
      "metadata": {
        "id": "4S9zMfWh5-qH"
      },
      "execution_count": null,
      "outputs": []
    },
    {
      "cell_type": "code",
      "source": [
        " #Leave-One-Out Cross-Validation of diamond\n",
        " library (boot)\n",
        "glm.fit=glm(log(Price) ~ log(Carat) + Cut + Colour + Clarity ,data=df_diamond)\n",
        " cv.err =cv.glm(df_diamond ,glm.fit)\n",
        " cv.err$delta\n",
        " coef(glm.fit)\n",
        " cv.error <- rep(0, 10)\n",
        "cv.error"
      ],
      "metadata": {
        "id": "9pWGK4W0nw2a"
      },
      "execution_count": null,
      "outputs": []
    },
    {
      "cell_type": "code",
      "source": [
        "# 10 k-Fold Cross-Validation of diamond\n",
        " set.seed (17)\n",
        " cv.error.10 <- rep(0, 10)\n",
        "cv.error.10\n",
        "data(train, package=\"MASS\")\n",
        "lm2 =lm(formula = log(Price) ~ log(Carat) + Cut + Colour + Clarity, \n",
        "     data=train)\n",
        "cv.err <- cv.glm(train,lm2)$delta \n",
        "cv.err.10 <- cv.glm(train,lm2, K = 10)$delta"
      ],
      "metadata": {
        "id": "Cvx40zr74JR6"
      },
      "execution_count": null,
      "outputs": []
    },
    {
      "cell_type": "code",
      "source": [
        "cv.error=rep (0,5)\n",
        "for (i in 1:5){\n",
        "  glm.fit=glm(log(Price) ~ log(Carat) + Cut + Colour + Clarity ,data=df_diamond)\n",
        "  cv.error[i]=cv.glm (df_diamond ,glm.fit)$delta [1]\n",
        "  }\n",
        "cv.error"
      ],
      "metadata": {
        "id": "C0WKKSiT6m-w"
      },
      "execution_count": null,
      "outputs": []
    },
    {
      "cell_type": "code",
      "source": [
        "#Bootstrap on Regression\n",
        "\n",
        "alpha.fn=function (train ,index){\n",
        "+ X<-train$X [index]\n",
        "+ Y<-train$Y [index]\n",
        "+ return ((var(Y)-cov (X,Y))/(var(X)+var(Y) -2* cov(X,Y)))\n",
        "}\n",
        "alpha.fn(train ,1:100)\n",
        "set.seed (1)\n",
        "alpha.fn(train ,sample (100 ,100 , replace =T))"
      ],
      "metadata": {
        "id": "YzSfeAx4Hbtt"
      },
      "execution_count": null,
      "outputs": []
    },
    {
      "cell_type": "code",
      "source": [
        "set.seed(1)\n",
        "alpha.fn(Portfolio, sample(100, 100, replace = T))\n",
        "boot(Portfolio ,alpha.fn,R=1000)\n",
        "boot.fn=function (data ,index )\n",
        "   return (coef(lm(mpg∼horsepower ,data=data ,subset =index)))\n",
        "boot.fn(Auto ,1:392)\n",
        "set.seed(1)\n",
        "boot.fn(Auto ,sample (392 ,392 , replace =T))\n",
        "boot(Auto ,boot.fn ,1000)\n",
        "boot.fn=function (data ,index )\n",
        "  coefficients(lm(mpg∼horsepower + I( horsepower ^2) ,data=data ,\n",
        "subset =index))\n",
        "set.seed (1)\n",
        "boot(Auto ,boot.fn ,1000)"
      ],
      "metadata": {
        "id": "Ram6Br3VBcYH"
      },
      "execution_count": null,
      "outputs": []
    },
    {
      "cell_type": "markdown",
      "source": [
        "2. analysis of bank data set\n"
      ],
      "metadata": {
        "id": "TPvIk8EtDiPR"
      }
    },
    {
      "cell_type": "code",
      "source": [
        "#  bank data import\n",
        "library(readr)\n",
        "library(dplyr)\n",
        "library(tidyr)\n",
        "library(ggplot2)\n",
        "\n",
        "df_bank<-read_csv(\"/content/bank-additional-full.csv\")\n",
        "str(df_bank)\n",
        "head(df_bank)\n",
        "sum(is.na(df_bank))\n",
        "glimpse(df_bank)"
      ],
      "metadata": {
        "id": "n8c-0qxYZYGB"
      },
      "execution_count": null,
      "outputs": []
    },
    {
      "cell_type": "code",
      "source": [
        "# model building \n",
        "model <- glm(formula =as.factor(y)~duration + month + poutcome + emp.var.rate + job + cons.price.idx + \n",
        "    contact + euribor3m + day_of_week + campaign + pdays + education + \n",
        "    cons.conf.idx + default , \n",
        " family = \"binomial\", data = df_bank)\n",
        "     summary(model_full)"
      ],
      "metadata": {
        "id": "THwf1Oh8D2BS"
      },
      "execution_count": null,
      "outputs": []
    },
    {
      "cell_type": "code",
      "source": [
        "# The Validation Set Approach of diamond\n",
        "install.packages(\"ISLR2\")\n",
        "library(ISLR2)\n",
        "set.seed (1)\n",
        "train <- sample (440 , 220)\n",
        "# calculate the MSE of the observations in the validation set of diamond\n",
        "model_summ2 <-summary(model)\n",
        "mean(model_summ$residuals^2)"
      ],
      "metadata": {
        "id": "gDSyHKFCF9GQ"
      },
      "execution_count": null,
      "outputs": []
    },
    {
      "cell_type": "code",
      "source": [
        " #Leave-One-Out Cross-Validation of bank\n",
        " library (boot)\n",
        "glm.fit=glm(as.factor(y)~duration + month + poutcome + emp.var.rate + job + cons.price.idx + \n",
        "    contact + euribor3m + day_of_week + campaign + pdays + education + \n",
        "    cons.conf.idx + default  ,data=df_bank)\n",
        " cv.err =cv.glm(df_bank ,glm.fit)\n",
        " cv.err$delta\n",
        " coef(glm.fit)\n",
        " cv.error <- rep(0, 10)\n",
        "cv.error"
      ],
      "metadata": {
        "id": "hYz3gL1SGIA1"
      },
      "execution_count": null,
      "outputs": []
    },
    {
      "cell_type": "code",
      "source": [
        "# 10 k-Fold Cross-Validation of bank\n",
        " set.seed (17)\n",
        " cv.error.10 <- rep(0, 10)\n",
        "cv.error.10\n",
        "data(train, package=\"MASS\")\n",
        "model <- glm(formula =as.factor(y)~duration + month + poutcome + emp.var.rate + job + cons.price.idx + \n",
        "    contact + euribor3m + day_of_week + campaign + pdays + education + \n",
        "    cons.conf.idx + default , \n",
        "  data = df_bank)\n",
        "cv.err <- cv.glm(df_bank,model)$delta \n",
        "cv.err.10 <- cv.glm(df_bank,lm2, K = 10)$delta"
      ],
      "metadata": {
        "id": "umA-_sUuGXC4"
      },
      "execution_count": null,
      "outputs": []
    },
    {
      "cell_type": "code",
      "source": [
        "#Bootstrap on classification of bank\n",
        "alpha.fn=function (df_bank ,index){\n",
        "+ X=df_bank$X [index]\n",
        "+ Y=df_bank$Y [index]\n",
        "+ return ((var(Y)-cov (X,Y))/(var(X)+var(Y) -2* cov(X,Y)))\n",
        "+ }\n",
        "\n",
        "alpha.fn(df_bank ,1:100)\n",
        "set.seed (1)\n",
        "alpha.fn(df_bank ,sample (100 ,100 , replace =T))\n",
        "\n",
        "boot(df_bank ,alpha.fn,R=1000)\n",
        "ORDINARY NONPARAMETRIC BOOTSTRAP\n",
        "Call:\n",
        "boot(data = df_bank, statistic = alpha.fn, R = 1000\n",
        "\n",
        "boot.fn=function (data ,index )\n",
        "   return (coef(lm(y~duration + month + poutcome + emp.var.rate + job + cons.price.idx + \n",
        "    contact + euribor3m + day_of_week + campaign + pdays + education + \n",
        "    cons.conf.idx + default ,data=df_bank ,subset =index)))\n",
        "boot.fn(df_bank ,1:392)\n",
        "set.seed(1)\n",
        "boot.fn(df_bank ,sample (392 ,392 , replace =T))\n",
        "## ORDINARY NONPARAMETRIC BOOTSTRAP\n",
        "## Call:\n",
        "## boot(data = df_bank, statistic = boot.fn, R = 1000)"
      ],
      "metadata": {
        "id": "kcptEqUZ1eIw"
      },
      "execution_count": null,
      "outputs": []
    }
  ]
}