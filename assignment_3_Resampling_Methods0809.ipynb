{
  "cells": [
    {
      "cell_type": "markdown",
      "metadata": {
        "id": "view-in-github",
        "colab_type": "text"
      },
      "source": [
        "<a href=\"https://colab.research.google.com/github/iceman025/assignment-03/blob/main/assignment_3_Resampling_Methods0809.ipynb\" target=\"_parent\"><img src=\"https://colab.research.google.com/assets/colab-badge.svg\" alt=\"Open In Colab\"/></a>"
      ]
    },
    {
      "cell_type": "code",
      "execution_count": 1,
      "metadata": {
        "id": "bOF0UkXVQu42",
        "colab": {
          "base_uri": "https://localhost:8080/"
        },
        "outputId": "37b829c3-b47e-4390-c3ad-7674cd5bd356"
      },
      "outputs": [
        {
          "output_type": "stream",
          "name": "stderr",
          "text": [
            "\n",
            "Attaching package: ‘dplyr’\n",
            "\n",
            "\n",
            "The following objects are masked from ‘package:stats’:\n",
            "\n",
            "    filter, lag\n",
            "\n",
            "\n",
            "The following objects are masked from ‘package:base’:\n",
            "\n",
            "    intersect, setdiff, setequal, union\n",
            "\n",
            "\n",
            "Installing package into ‘/usr/local/lib/R/site-library’\n",
            "(as ‘lib’ is unspecified)\n",
            "\n",
            "Warning message in system(\"timedatectl\", intern = TRUE):\n",
            "“running command 'timedatectl' had status 1”\n",
            "── \u001b[1mAttaching packages\u001b[22m ─────────────────────────────────────── tidyverse 1.3.1 ──\n",
            "\n",
            "\u001b[32m✔\u001b[39m \u001b[34mtibble \u001b[39m 3.1.7     \u001b[32m✔\u001b[39m \u001b[34mstringr\u001b[39m 1.4.0\n",
            "\u001b[32m✔\u001b[39m \u001b[34mpurrr  \u001b[39m 0.3.4     \u001b[32m✔\u001b[39m \u001b[34mforcats\u001b[39m 0.5.1\n",
            "\n",
            "── \u001b[1mConflicts\u001b[22m ────────────────────────────────────────── tidyverse_conflicts() ──\n",
            "\u001b[31m✖\u001b[39m \u001b[34mdplyr\u001b[39m::\u001b[32mfilter()\u001b[39m masks \u001b[34mstats\u001b[39m::filter()\n",
            "\u001b[31m✖\u001b[39m \u001b[34mdplyr\u001b[39m::\u001b[32mlag()\u001b[39m    masks \u001b[34mstats\u001b[39m::lag()\n",
            "\n",
            "Installing package into ‘/usr/local/lib/R/site-library’\n",
            "(as ‘lib’ is unspecified)\n",
            "\n",
            "Installing package into ‘/usr/local/lib/R/site-library’\n",
            "(as ‘lib’ is unspecified)\n",
            "\n",
            "\n",
            "Attaching package: ‘ISLR2’\n",
            "\n",
            "\n",
            "The following objects are masked from ‘package:ISLR’:\n",
            "\n",
            "    Auto, Credit\n",
            "\n",
            "\n"
          ]
        }
      ],
      "source": [
        "# load pachages\n",
        "library(readr)\n",
        "library(dplyr)\n",
        "library(tidyr)\n",
        "library(ggplot2)\n",
        "library(readxl)\n",
        "install.packages(\"ISLR\")\n",
        "library (ISLR)\n",
        "library(tidyverse)\n",
        "install.packages(\"datarium\")\n",
        "install.packages(\"ISLR2\")\n",
        "library(ISLR2)"
      ]
    },
    {
      "cell_type": "markdown",
      "metadata": {
        "id": "oUoN9Lf5DsEz"
      },
      "source": [
        "1. analysis of diamond data set\n",
        "\n",
        "\n",
        "\n"
      ]
    },
    {
      "cell_type": "code",
      "execution_count": 2,
      "metadata": {
        "id": "mHAFv3HERFD8",
        "colab": {
          "base_uri": "https://localhost:8080/",
          "height": 595
        },
        "outputId": "1a50e26f-232e-4556-f1bc-7fb65b037b2d"
      },
      "outputs": [
        {
          "output_type": "display_data",
          "data": {
            "text/plain": [
              "     Carat           Colour            Clarity              Cut           \n",
              " Min.   :0.0900   Length:441         Length:441         Length:441        \n",
              " 1st Qu.:0.3000   Class :character   Class :character   Class :character  \n",
              " Median :0.8100   Mode  :character   Mode  :character   Mode  :character  \n",
              " Mean   :0.6693                                                           \n",
              " 3rd Qu.:1.0100                                                           \n",
              " Max.   :1.5800                                                           \n",
              " NA's   :1                                                                \n",
              " Certification         Polish            Symmetry            Price          \n",
              " Length:441         Length:441         Length:441         Length:441        \n",
              " Class :character   Class :character   Class :character   Class :character  \n",
              " Mode  :character   Mode  :character   Mode  :character   Mode  :character  \n",
              "                                                                            \n",
              "                                                                            \n",
              "                                                                            \n",
              "                                                                            \n",
              "   Wholesaler   \n",
              " Min.   :1.000  \n",
              " 1st Qu.:2.000  \n",
              " Median :2.000  \n",
              " Mean   :2.318  \n",
              " 3rd Qu.:3.000  \n",
              " Max.   :3.000  \n",
              " NA's   :1      "
            ]
          },
          "metadata": {}
        },
        {
          "output_type": "stream",
          "name": "stdout",
          "text": [
            "'data.frame':\t441 obs. of  9 variables:\n",
            " $ Carat        : num  0.92 0.92 0.82 0.81 0.9 0.87 0.8 0.84 0.8 0.8 ...\n",
            " $ Colour       : chr  \"I\" \"I\" \"F\" \"G\" ...\n",
            " $ Clarity      : chr  \"SI2\" \"SI2\" \"SI2\" \"SI1\" ...\n",
            " $ Cut          : chr  \"G\" \"V\" \"I\" \"I\" ...\n",
            " $ Certification: chr  \"AGS\" \"AGS\" \"GIA\" \"GIA\" ...\n",
            " $ Polish       : chr  \"V\" \"G\" \"X\" \"X\" ...\n",
            " $ Symmetry     : chr  \"V\" \"G\" \"X\" \"V\" ...\n",
            " $ Price        : chr  \"$3,000\" \"$3,000\" \"$3,004\" \"$3,004\" ...\n",
            " $ Wholesaler   : int  1 1 1 1 1 1 1 1 1 1 ...\n"
          ]
        }
      ],
      "source": [
        "# data import and cleaning of diamond\n",
        "df_diamond <- read.csv(\"https://raw.githubusercontent.com/iceman025/professordiamonds/main/MBA6636_SM21_Professor_Proposes_Data.csv\")\n",
        "summary(df_diamond)\n",
        "str(df_diamond)"
      ]
    },
    {
      "cell_type": "code",
      "execution_count": 3,
      "metadata": {
        "id": "9Vj5PKIXzzoZ"
      },
      "outputs": [],
      "source": [
        "# data split of diamond\n",
        "rows <- sample(nrow(df_diamond))\n",
        "diamonds <- df_diamond[rows, ]\n",
        "split <- round(nrow(df_diamond) * .80)\n",
        "train <- df_diamond[1:split, ]\n",
        "test <- df_diamond[(split + 1):nrow(df_diamond), ]\n"
      ]
    },
    {
      "cell_type": "code",
      "source": [
        "# change the catagorical variables to numerical variables\n",
        "library(dplyr)\n",
        "x <- factor(c(\"Carat\",\"Cut\",\"Colour\",\"Clarity\"))\n",
        "x_new <- unclass(x)\n",
        "df_diamond$Cut <- unclass(df_diamond$Cut)\n",
        "df_diamond$Price <- unclass(df_diamond$Price)\n",
        "df_diamond$Colour <- unclass(df_diamond$Colour)\n",
        "df_diamond$Clarity <- unclass(df_diamond$Clarity)\n",
        "df_diamond[sapply(df_diamond, is.factor)] <- data.matrix(df_diamond[sapply(df_diamond, is.factor)])\n",
        "\n",
        "MakeNum <- function(df_diamond) as.numeric(as.factor(df_diamond))\n",
        "df_diamond <- mutate_at(df_diamond, 2:8, MakeNum)\n",
        "str(df_diamond)"
      ],
      "metadata": {
        "colab": {
          "base_uri": "https://localhost:8080/"
        },
        "id": "ZJVHrSZkbSJT",
        "outputId": "2a30d7a1-0652-4aa9-d702-5e098cb4d84e"
      },
      "execution_count": 4,
      "outputs": [
        {
          "output_type": "stream",
          "name": "stdout",
          "text": [
            "'data.frame':\t441 obs. of  9 variables:\n",
            " $ Carat        : num  0.92 0.92 0.82 0.81 0.9 0.87 0.8 0.84 0.8 0.8 ...\n",
            " $ Colour       : num  7 7 4 5 8 4 2 4 2 2 ...\n",
            " $ Clarity      : num  5 5 5 4 8 5 5 4 5 5 ...\n",
            " $ Cut          : num  3 5 4 4 5 4 4 3 5 5 ...\n",
            " $ Certification: num  2 2 5 5 5 2 5 5 5 5 ...\n",
            " $ Polish       : num  6 3 7 7 6 3 6 6 6 6 ...\n",
            " $ Symmetry     : num  5 3 6 5 5 5 5 5 5 6 ...\n",
            " $ Price        : num  106 106 107 107 108 109 110 111 112 112 ...\n",
            " $ Wholesaler   : int  1 1 1 1 1 1 1 1 1 1 ...\n"
          ]
        }
      ]
    },
    {
      "cell_type": "code",
      "source": [
        "# The Validation Set Approach of diamond\n",
        "set.seed (1)\n",
        "train <- sample (440 , 220)\n",
        "# calculate the MSE of the observations in the validation set of diamond\n",
        "lm.fit <- lm(log(Price) ~log(Carat) + Cut + Colour + Clarity, \n",
        "     data=df_diamond)\n",
        "model_summ <-summary(lm.fit)\n",
        "mean(model_summ$residuals^2)"
      ],
      "metadata": {
        "colab": {
          "base_uri": "https://localhost:8080/",
          "height": 34
        },
        "id": "HrST6fJP5PK5",
        "outputId": "9183ff76-acd9-44b1-aa00-f5c555624171"
      },
      "execution_count": 5,
      "outputs": [
        {
          "output_type": "display_data",
          "data": {
            "text/html": [
              "0.731321478766201"
            ],
            "text/markdown": "0.731321478766201",
            "text/latex": "0.731321478766201",
            "text/plain": [
              "[1] 0.7313215"
            ]
          },
          "metadata": {}
        }
      ]
    },
    {
      "cell_type": "code",
      "source": [
        "# Leave-One-Out Cross-Validation\n",
        " library (boot)\n",
        "\n",
        "lm.fit <- lm(log(Price) ~log(Carat) + Cut + Colour + Clarity, \n",
        "     data=df_diamond)\n",
        "coef(lm.fit)"
      ],
      "metadata": {
        "colab": {
          "base_uri": "https://localhost:8080/",
          "height": 34
        },
        "id": "BoCl0TgXTlyS",
        "outputId": "39ca3e07-c3ed-4835-fabb-a6544352d27e"
      },
      "execution_count": 6,
      "outputs": [
        {
          "output_type": "display_data",
          "data": {
            "text/html": [
              "<style>\n",
              ".dl-inline {width: auto; margin:0; padding: 0}\n",
              ".dl-inline>dt, .dl-inline>dd {float: none; width: auto; display: inline-block}\n",
              ".dl-inline>dt::after {content: \":\\0020\"; padding-right: .5ex}\n",
              ".dl-inline>dt:not(:first-of-type) {padding-left: .5ex}\n",
              "</style><dl class=dl-inline><dt>(Intercept)</dt><dd>3.61136869081066</dd><dt>log(Carat)</dt><dd>0.0896585766726193</dd><dt>Cut</dt><dd>0.133969824408183</dd><dt>Colour</dt><dd>0.00021026983913594</dd><dt>Clarity</dt><dd>0.103456912817285</dd></dl>\n"
            ],
            "text/markdown": "(Intercept)\n:   3.61136869081066log(Carat)\n:   0.0896585766726193Cut\n:   0.133969824408183Colour\n:   0.00021026983913594Clarity\n:   0.103456912817285\n\n",
            "text/latex": "\\begin{description*}\n\\item[(Intercept)] 3.61136869081066\n\\item[log(Carat)] 0.0896585766726193\n\\item[Cut] 0.133969824408183\n\\item[Colour] 0.00021026983913594\n\\item[Clarity] 0.103456912817285\n\\end{description*}\n",
            "text/plain": [
              " (Intercept)   log(Carat)          Cut       Colour      Clarity \n",
              "3.6113686908 0.0896585767 0.1339698244 0.0002102698 0.1034569128 "
            ]
          },
          "metadata": {}
        }
      ]
    },
    {
      "cell_type": "code",
      "source": [
        "# create function that computes LOOCV MSE based on specified polynomial degree???\n",
        "loocv_error <- function(x) {\n",
        "  glm.fit <- glm(log(price) ~log(carat) + cut + color + clarity, \n",
        "     data=df_diamond)\n",
        "  cv.glm(df_diamond, glm.fit)$delta[1]\n",
        "}"
      ],
      "metadata": {
        "id": "wuPv2_MVs_XU"
      },
      "execution_count": 7,
      "outputs": []
    },
    {
      "cell_type": "code",
      "source": [
        "# create function that computes LOOCV MSE based on specified polynomial degree\n",
        "loocv_error <- function(x) {\n",
        "  glm.fit <- lm(log(Price) ~log(Carat) + Cut + Colour + Clarity, \n",
        "     data=df_diamond)\n",
        "  cv.glm(df_diamond, glm.fit)$delta[1]\n",
        "}\n",
        "\n",
        "# compute LOOCV MSE for polynomial degrees 1-5\n",
        "library(purrr)\n",
        "1:5 %>% map_dbl(loocv_error)"
      ],
      "metadata": {
        "id": "e0FJEJvxpWuD",
        "colab": {
          "base_uri": "https://localhost:8080/",
          "height": 34
        },
        "outputId": "4155276d-e930-434a-cde7-a037955e6513"
      },
      "execution_count": 8,
      "outputs": [
        {
          "output_type": "display_data",
          "data": {
            "text/html": [
              "<style>\n",
              ".list-inline {list-style: none; margin:0; padding: 0}\n",
              ".list-inline>li {display: inline-block}\n",
              ".list-inline>li:not(:last-child)::after {content: \"\\00b7\"; padding: 0 .5ex}\n",
              "</style>\n",
              "<ol class=list-inline><li>NaN</li><li>NaN</li><li>NaN</li><li>NaN</li><li>NaN</li></ol>\n"
            ],
            "text/markdown": "1. NaN\n2. NaN\n3. NaN\n4. NaN\n5. NaN\n\n\n",
            "text/latex": "\\begin{enumerate*}\n\\item NaN\n\\item NaN\n\\item NaN\n\\item NaN\n\\item NaN\n\\end{enumerate*}\n",
            "text/plain": [
              "[1] NaN NaN NaN NaN NaN"
            ]
          },
          "metadata": {}
        }
      ]
    },
    {
      "cell_type": "code",
      "source": [
        "# k-Fold Cross Validation of diamonds\n",
        "library (boot)\n",
        "\n",
        "system.time({\n",
        "  diamonds.fit <- lm(log(Price) ~ log(Carat) + Cut + Colour + Clarity, data = df_diamond)\n",
        "  cv.glm(df_diamond, diamonds.fit, K = 10)\n",
        "})"
      ],
      "metadata": {
        "id": "CnLjNjfzWPOh",
        "colab": {
          "base_uri": "https://localhost:8080/",
          "height": 51
        },
        "outputId": "1057d123-2971-41b8-9804-3542f8f04e4d"
      },
      "execution_count": 9,
      "outputs": [
        {
          "output_type": "display_data",
          "data": {
            "text/plain": [
              "   user  system elapsed \n",
              "  0.028   0.000   0.028 "
            ]
          },
          "metadata": {}
        }
      ]
    },
    {
      "cell_type": "code",
      "execution_count": 10,
      "metadata": {
        "id": "YzSfeAx4Hbtt"
      },
      "outputs": [],
      "source": [
        "#Bootstrap on Regression: step 1\n",
        "statistic <- function(df_diamond, index) {\n",
        "  x <- df_diamond$X[index]\n",
        "  y <- df_diamond$Y[index]\n",
        "  (var(y) - cov(x, y)) / (var(x) + var(y) - 2* cov(x, y))\n",
        "}"
      ]
    },
    {
      "cell_type": "code",
      "source": [
        "#Bootstrap on Regression:step 2\n",
        "install.packages(\"ISLR\")\n",
        "library (ISLR)\n",
        "library(tidyverse)  # data manipulation and visualization\n",
        "library(boot)\n",
        "portfolio <- ISLR::Portfolio\n",
        "\n",
        "# compute our statistic for all 100 observations\n",
        "statistic(portfolio, 1:100)"
      ],
      "metadata": {
        "id": "a94ECBPcZ7s8",
        "colab": {
          "base_uri": "https://localhost:8080/",
          "height": 85
        },
        "outputId": "d2ec59eb-833f-4f9c-d5d1-700c4dd271c8"
      },
      "execution_count": 11,
      "outputs": [
        {
          "output_type": "stream",
          "name": "stderr",
          "text": [
            "Installing package into ‘/usr/local/lib/R/site-library’\n",
            "(as ‘lib’ is unspecified)\n",
            "\n"
          ]
        },
        {
          "output_type": "display_data",
          "data": {
            "text/html": [
              "0.57583207459283"
            ],
            "text/markdown": "0.57583207459283",
            "text/latex": "0.57583207459283",
            "text/plain": [
              "[1] 0.5758321"
            ]
          },
          "metadata": {}
        }
      ]
    },
    {
      "cell_type": "code",
      "source": [
        "#Bootstrap on Regression: step 3\n",
        "statistic(portfolio, sample(100, 100, replace = TRUE))"
      ],
      "metadata": {
        "id": "O3Gdb7cNaTHX",
        "colab": {
          "base_uri": "https://localhost:8080/",
          "height": 34
        },
        "outputId": "312389b9-7f77-4f01-b62a-eaed9fd1ba14"
      },
      "execution_count": 12,
      "outputs": [
        {
          "output_type": "display_data",
          "data": {
            "text/html": [
              "0.70418917847688"
            ],
            "text/markdown": "0.70418917847688",
            "text/latex": "0.70418917847688",
            "text/plain": [
              "[1] 0.7041892"
            ]
          },
          "metadata": {}
        }
      ]
    },
    {
      "cell_type": "code",
      "source": [
        "# #Bootstrap on Regression :step 4\n",
        "library(boot)\n",
        "set.seed(123)\n",
        "boot(portfolio, statistic, R = 1000)"
      ],
      "metadata": {
        "id": "S8zq53m2aX7X",
        "colab": {
          "base_uri": "https://localhost:8080/",
          "height": 204
        },
        "outputId": "66ffae74-56cc-4c41-af6c-477778a9e023"
      },
      "execution_count": 13,
      "outputs": [
        {
          "output_type": "display_data",
          "data": {
            "text/plain": [
              "\n",
              "ORDINARY NONPARAMETRIC BOOTSTRAP\n",
              "\n",
              "\n",
              "Call:\n",
              "boot(data = portfolio, statistic = statistic, R = 1000)\n",
              "\n",
              "\n",
              "Bootstrap Statistics :\n",
              "     original      bias    std. error\n",
              "t1* 0.5758321 0.007544609  0.08952496"
            ]
          },
          "metadata": {}
        }
      ]
    },
    {
      "cell_type": "code",
      "source": [
        "#Bootstrap on Regression:step 5-\n",
        "#generate the bootstrap estimates we can also view the confidence intervals with boot.ci and plot our results\n",
        "set.seed(123)\n",
        "result <- boot(portfolio, statistic, R = 1000)\n",
        "boot.ci(result, type = \"basic\")\n",
        "plot(result)"
      ],
      "metadata": {
        "id": "elzjcEs_ahPp",
        "colab": {
          "base_uri": "https://localhost:8080/",
          "height": 607
        },
        "outputId": "036eeee1-3fbe-44b8-ceb3-e802790cc68b"
      },
      "execution_count": 14,
      "outputs": [
        {
          "output_type": "display_data",
          "data": {
            "text/plain": [
              "BOOTSTRAP CONFIDENCE INTERVAL CALCULATIONS\n",
              "Based on 1000 bootstrap replicates\n",
              "\n",
              "CALL : \n",
              "boot.ci(boot.out = result, type = \"basic\")\n",
              "\n",
              "Intervals : \n",
              "Level      Basic         \n",
              "95%   ( 0.3918,  0.7449 )  \n",
              "Calculations and Intervals on Original Scale"
            ]
          },
          "metadata": {}
        },
        {
          "output_type": "display_data",
          "data": {
            "text/plain": [
              "Plot with title “Histogram of t”"
            ],
            "image/png": "[encoded data removed]"
          },
          "metadata": {
            "image/png": {
              "width": 420,
              "height": 420
            }
          }
        }
      ]
    },
    {
      "cell_type": "markdown",
      "metadata": {
        "id": "TPvIk8EtDiPR"
      },
      "source": [
        "2. analysis of bank data set\n"
      ]
    },
    {
      "cell_type": "code",
      "execution_count": 15,
      "metadata": {
        "id": "n8c-0qxYZYGB",
        "colab": {
          "base_uri": "https://localhost:8080/",
          "height": 1000
        },
        "outputId": "d893bacc-f7c1-42f8-f4d7-5b6e4749e230"
      },
      "outputs": [
        {
          "output_type": "stream",
          "name": "stderr",
          "text": [
            "\u001b[1mRows: \u001b[22m\u001b[34m41188\u001b[39m \u001b[1mColumns: \u001b[22m\u001b[34m21\u001b[39m\n",
            "\u001b[36m──\u001b[39m \u001b[1mColumn specification\u001b[22m \u001b[36m────────────────────────────────────────────────────────\u001b[39m\n",
            "\u001b[1mDelimiter:\u001b[22m \";\"\n",
            "\u001b[31mchr\u001b[39m (11): job, marital, education, default, housing, loan, contact, month, d...\n",
            "\u001b[32mdbl\u001b[39m (10): age, duration, campaign, pdays, previous, emp.var.rate, cons.price...\n",
            "\n",
            "\u001b[36mℹ\u001b[39m Use `spec()` to retrieve the full column specification for this data.\n",
            "\u001b[36mℹ\u001b[39m Specify the column types or set `show_col_types = FALSE` to quiet this message.\n"
          ]
        },
        {
          "output_type": "stream",
          "name": "stdout",
          "text": [
            "spec_tbl_df [41,188 × 21] (S3: spec_tbl_df/tbl_df/tbl/data.frame)\n",
            " $ age           : num [1:41188] 56 57 37 40 56 45 59 41 24 25 ...\n",
            " $ job           : chr [1:41188] \"housemaid\" \"services\" \"services\" \"admin.\" ...\n",
            " $ marital       : chr [1:41188] \"married\" \"married\" \"married\" \"married\" ...\n",
            " $ education     : chr [1:41188] \"basic.4y\" \"high.school\" \"high.school\" \"basic.6y\" ...\n",
            " $ default       : chr [1:41188] \"no\" \"unknown\" \"no\" \"no\" ...\n",
            " $ housing       : chr [1:41188] \"no\" \"no\" \"yes\" \"no\" ...\n",
            " $ loan          : chr [1:41188] \"no\" \"no\" \"no\" \"no\" ...\n",
            " $ contact       : chr [1:41188] \"telephone\" \"telephone\" \"telephone\" \"telephone\" ...\n",
            " $ month         : chr [1:41188] \"may\" \"may\" \"may\" \"may\" ...\n",
            " $ day_of_week   : chr [1:41188] \"mon\" \"mon\" \"mon\" \"mon\" ...\n",
            " $ duration      : num [1:41188] 261 149 226 151 307 198 139 217 380 50 ...\n",
            " $ campaign      : num [1:41188] 1 1 1 1 1 1 1 1 1 1 ...\n",
            " $ pdays         : num [1:41188] 999 999 999 999 999 999 999 999 999 999 ...\n",
            " $ previous      : num [1:41188] 0 0 0 0 0 0 0 0 0 0 ...\n",
            " $ poutcome      : chr [1:41188] \"nonexistent\" \"nonexistent\" \"nonexistent\" \"nonexistent\" ...\n",
            " $ emp.var.rate  : num [1:41188] 1.1 1.1 1.1 1.1 1.1 1.1 1.1 1.1 1.1 1.1 ...\n",
            " $ cons.price.idx: num [1:41188] 94 94 94 94 94 ...\n",
            " $ cons.conf.idx : num [1:41188] -36.4 -36.4 -36.4 -36.4 -36.4 -36.4 -36.4 -36.4 -36.4 -36.4 ...\n",
            " $ euribor3m     : num [1:41188] 4.86 4.86 4.86 4.86 4.86 ...\n",
            " $ nr.employed   : num [1:41188] 5191 5191 5191 5191 5191 ...\n",
            " $ y             : chr [1:41188] \"no\" \"no\" \"no\" \"no\" ...\n",
            " - attr(*, \"spec\")=\n",
            "  .. cols(\n",
            "  ..   age = \u001b[32mcol_double()\u001b[39m,\n",
            "  ..   job = \u001b[31mcol_character()\u001b[39m,\n",
            "  ..   marital = \u001b[31mcol_character()\u001b[39m,\n",
            "  ..   education = \u001b[31mcol_character()\u001b[39m,\n",
            "  ..   default = \u001b[31mcol_character()\u001b[39m,\n",
            "  ..   housing = \u001b[31mcol_character()\u001b[39m,\n",
            "  ..   loan = \u001b[31mcol_character()\u001b[39m,\n",
            "  ..   contact = \u001b[31mcol_character()\u001b[39m,\n",
            "  ..   month = \u001b[31mcol_character()\u001b[39m,\n",
            "  ..   day_of_week = \u001b[31mcol_character()\u001b[39m,\n",
            "  ..   duration = \u001b[32mcol_double()\u001b[39m,\n",
            "  ..   campaign = \u001b[32mcol_double()\u001b[39m,\n",
            "  ..   pdays = \u001b[32mcol_double()\u001b[39m,\n",
            "  ..   previous = \u001b[32mcol_double()\u001b[39m,\n",
            "  ..   poutcome = \u001b[31mcol_character()\u001b[39m,\n",
            "  ..   emp.var.rate = \u001b[32mcol_double()\u001b[39m,\n",
            "  ..   cons.price.idx = \u001b[32mcol_double()\u001b[39m,\n",
            "  ..   cons.conf.idx = \u001b[32mcol_double()\u001b[39m,\n",
            "  ..   euribor3m = \u001b[32mcol_double()\u001b[39m,\n",
            "  ..   nr.employed = \u001b[32mcol_double()\u001b[39m,\n",
            "  ..   y = \u001b[31mcol_character()\u001b[39m\n",
            "  .. )\n",
            " - attr(*, \"problems\")=<externalptr> \n"
          ]
        },
        {
          "output_type": "display_data",
          "data": {
            "text/html": [
              "<table class=\"dataframe\">\n",
              "<caption>A tibble: 6 × 21</caption>\n",
              "<thead>\n",
              "\t<tr><th scope=col>age</th><th scope=col>job</th><th scope=col>marital</th><th scope=col>education</th><th scope=col>default</th><th scope=col>housing</th><th scope=col>loan</th><th scope=col>contact</th><th scope=col>month</th><th scope=col>day_of_week</th><th scope=col>⋯</th><th scope=col>campaign</th><th scope=col>pdays</th><th scope=col>previous</th><th scope=col>poutcome</th><th scope=col>emp.var.rate</th><th scope=col>cons.price.idx</th><th scope=col>cons.conf.idx</th><th scope=col>euribor3m</th><th scope=col>nr.employed</th><th scope=col>y</th></tr>\n",
              "\t<tr><th scope=col>&lt;dbl&gt;</th><th scope=col>&lt;chr&gt;</th><th scope=col>&lt;chr&gt;</th><th scope=col>&lt;chr&gt;</th><th scope=col>&lt;chr&gt;</th><th scope=col>&lt;chr&gt;</th><th scope=col>&lt;chr&gt;</th><th scope=col>&lt;chr&gt;</th><th scope=col>&lt;chr&gt;</th><th scope=col>&lt;chr&gt;</th><th scope=col>⋯</th><th scope=col>&lt;dbl&gt;</th><th scope=col>&lt;dbl&gt;</th><th scope=col>&lt;dbl&gt;</th><th scope=col>&lt;chr&gt;</th><th scope=col>&lt;dbl&gt;</th><th scope=col>&lt;dbl&gt;</th><th scope=col>&lt;dbl&gt;</th><th scope=col>&lt;dbl&gt;</th><th scope=col>&lt;dbl&gt;</th><th scope=col>&lt;chr&gt;</th></tr>\n",
              "</thead>\n",
              "<tbody>\n",
              "\t<tr><td>56</td><td>housemaid</td><td>married</td><td>basic.4y   </td><td>no     </td><td>no </td><td>no </td><td>telephone</td><td>may</td><td>mon</td><td>⋯</td><td>1</td><td>999</td><td>0</td><td>nonexistent</td><td>1.1</td><td>93.994</td><td>-36.4</td><td>4.857</td><td>5191</td><td>no</td></tr>\n",
              "\t<tr><td>57</td><td>services </td><td>married</td><td>high.school</td><td>unknown</td><td>no </td><td>no </td><td>telephone</td><td>may</td><td>mon</td><td>⋯</td><td>1</td><td>999</td><td>0</td><td>nonexistent</td><td>1.1</td><td>93.994</td><td>-36.4</td><td>4.857</td><td>5191</td><td>no</td></tr>\n",
              "\t<tr><td>37</td><td>services </td><td>married</td><td>high.school</td><td>no     </td><td>yes</td><td>no </td><td>telephone</td><td>may</td><td>mon</td><td>⋯</td><td>1</td><td>999</td><td>0</td><td>nonexistent</td><td>1.1</td><td>93.994</td><td>-36.4</td><td>4.857</td><td>5191</td><td>no</td></tr>\n",
              "\t<tr><td>40</td><td>admin.   </td><td>married</td><td>basic.6y   </td><td>no     </td><td>no </td><td>no </td><td>telephone</td><td>may</td><td>mon</td><td>⋯</td><td>1</td><td>999</td><td>0</td><td>nonexistent</td><td>1.1</td><td>93.994</td><td>-36.4</td><td>4.857</td><td>5191</td><td>no</td></tr>\n",
              "\t<tr><td>56</td><td>services </td><td>married</td><td>high.school</td><td>no     </td><td>no </td><td>yes</td><td>telephone</td><td>may</td><td>mon</td><td>⋯</td><td>1</td><td>999</td><td>0</td><td>nonexistent</td><td>1.1</td><td>93.994</td><td>-36.4</td><td>4.857</td><td>5191</td><td>no</td></tr>\n",
              "\t<tr><td>45</td><td>services </td><td>married</td><td>basic.9y   </td><td>unknown</td><td>no </td><td>no </td><td>telephone</td><td>may</td><td>mon</td><td>⋯</td><td>1</td><td>999</td><td>0</td><td>nonexistent</td><td>1.1</td><td>93.994</td><td>-36.4</td><td>4.857</td><td>5191</td><td>no</td></tr>\n",
              "</tbody>\n",
              "</table>\n"
            ],
            "text/markdown": "\nA tibble: 6 × 21\n\n| age &lt;dbl&gt; | job &lt;chr&gt; | marital &lt;chr&gt; | education &lt;chr&gt; | default &lt;chr&gt; | housing &lt;chr&gt; | loan &lt;chr&gt; | contact &lt;chr&gt; | month &lt;chr&gt; | day_of_week &lt;chr&gt; | ⋯ ⋯ | campaign &lt;dbl&gt; | pdays &lt;dbl&gt; | previous &lt;dbl&gt; | poutcome &lt;chr&gt; | emp.var.rate &lt;dbl&gt; | cons.price.idx &lt;dbl&gt; | cons.conf.idx &lt;dbl&gt; | euribor3m &lt;dbl&gt; | nr.employed &lt;dbl&gt; | y &lt;chr&gt; |\n|---|---|---|---|---|---|---|---|---|---|---|---|---|---|---|---|---|---|---|---|---|\n| 56 | housemaid | married | basic.4y    | no      | no  | no  | telephone | may | mon | ⋯ | 1 | 999 | 0 | nonexistent | 1.1 | 93.994 | -36.4 | 4.857 | 5191 | no |\n| 57 | services  | married | high.school | unknown | no  | no  | telephone | may | mon | ⋯ | 1 | 999 | 0 | nonexistent | 1.1 | 93.994 | -36.4 | 4.857 | 5191 | no |\n| 37 | services  | married | high.school | no      | yes | no  | telephone | may | mon | ⋯ | 1 | 999 | 0 | nonexistent | 1.1 | 93.994 | -36.4 | 4.857 | 5191 | no |\n| 40 | admin.    | married | basic.6y    | no      | no  | no  | telephone | may | mon | ⋯ | 1 | 999 | 0 | nonexistent | 1.1 | 93.994 | -36.4 | 4.857 | 5191 | no |\n| 56 | services  | married | high.school | no      | no  | yes | telephone | may | mon | ⋯ | 1 | 999 | 0 | nonexistent | 1.1 | 93.994 | -36.4 | 4.857 | 5191 | no |\n| 45 | services  | married | basic.9y    | unknown | no  | no  | telephone | may | mon | ⋯ | 1 | 999 | 0 | nonexistent | 1.1 | 93.994 | -36.4 | 4.857 | 5191 | no |\n\n",
            "text/latex": "A tibble: 6 × 21\n\\begin{tabular}{lllllllllllllllllllll}\n age & job & marital & education & default & housing & loan & contact & month & day\\_of\\_week & ⋯ & campaign & pdays & previous & poutcome & emp.var.rate & cons.price.idx & cons.conf.idx & euribor3m & nr.employed & y\\\\\n <dbl> & <chr> & <chr> & <chr> & <chr> & <chr> & <chr> & <chr> & <chr> & <chr> & ⋯ & <dbl> & <dbl> & <dbl> & <chr> & <dbl> & <dbl> & <dbl> & <dbl> & <dbl> & <chr>\\\\\n\\hline\n\t 56 & housemaid & married & basic.4y    & no      & no  & no  & telephone & may & mon & ⋯ & 1 & 999 & 0 & nonexistent & 1.1 & 93.994 & -36.4 & 4.857 & 5191 & no\\\\\n\t 57 & services  & married & high.school & unknown & no  & no  & telephone & may & mon & ⋯ & 1 & 999 & 0 & nonexistent & 1.1 & 93.994 & -36.4 & 4.857 & 5191 & no\\\\\n\t 37 & services  & married & high.school & no      & yes & no  & telephone & may & mon & ⋯ & 1 & 999 & 0 & nonexistent & 1.1 & 93.994 & -36.4 & 4.857 & 5191 & no\\\\\n\t 40 & admin.    & married & basic.6y    & no      & no  & no  & telephone & may & mon & ⋯ & 1 & 999 & 0 & nonexistent & 1.1 & 93.994 & -36.4 & 4.857 & 5191 & no\\\\\n\t 56 & services  & married & high.school & no      & no  & yes & telephone & may & mon & ⋯ & 1 & 999 & 0 & nonexistent & 1.1 & 93.994 & -36.4 & 4.857 & 5191 & no\\\\\n\t 45 & services  & married & basic.9y    & unknown & no  & no  & telephone & may & mon & ⋯ & 1 & 999 & 0 & nonexistent & 1.1 & 93.994 & -36.4 & 4.857 & 5191 & no\\\\\n\\end{tabular}\n",
            "text/plain": [
              "  age job       marital education   default housing loan contact   month\n",
              "1 56  housemaid married basic.4y    no      no      no   telephone may  \n",
              "2 57  services  married high.school unknown no      no   telephone may  \n",
              "3 37  services  married high.school no      yes     no   telephone may  \n",
              "4 40  admin.    married basic.6y    no      no      no   telephone may  \n",
              "5 56  services  married high.school no      no      yes  telephone may  \n",
              "6 45  services  married basic.9y    unknown no      no   telephone may  \n",
              "  day_of_week ⋯ campaign pdays previous poutcome    emp.var.rate cons.price.idx\n",
              "1 mon         ⋯ 1        999   0        nonexistent 1.1          93.994        \n",
              "2 mon         ⋯ 1        999   0        nonexistent 1.1          93.994        \n",
              "3 mon         ⋯ 1        999   0        nonexistent 1.1          93.994        \n",
              "4 mon         ⋯ 1        999   0        nonexistent 1.1          93.994        \n",
              "5 mon         ⋯ 1        999   0        nonexistent 1.1          93.994        \n",
              "6 mon         ⋯ 1        999   0        nonexistent 1.1          93.994        \n",
              "  cons.conf.idx euribor3m nr.employed y \n",
              "1 -36.4         4.857     5191        no\n",
              "2 -36.4         4.857     5191        no\n",
              "3 -36.4         4.857     5191        no\n",
              "4 -36.4         4.857     5191        no\n",
              "5 -36.4         4.857     5191        no\n",
              "6 -36.4         4.857     5191        no"
            ]
          },
          "metadata": {}
        },
        {
          "output_type": "display_data",
          "data": {
            "text/html": [
              "0"
            ],
            "text/markdown": "0",
            "text/latex": "0",
            "text/plain": [
              "[1] 0"
            ]
          },
          "metadata": {}
        },
        {
          "output_type": "stream",
          "name": "stdout",
          "text": [
            "Rows: 41,188\n",
            "Columns: 21\n",
            "$ age            \u001b[3m\u001b[90m<dbl>\u001b[39m\u001b[23m 56, 57, 37, 40, 56, 45, 59, 41, 24, 25, 41, 25, 29, 57,…\n",
            "$ job            \u001b[3m\u001b[90m<chr>\u001b[39m\u001b[23m \"housemaid\", \"services\", \"services\", \"admin.\", \"service…\n",
            "$ marital        \u001b[3m\u001b[90m<chr>\u001b[39m\u001b[23m \"married\", \"married\", \"married\", \"married\", \"married\", …\n",
            "$ education      \u001b[3m\u001b[90m<chr>\u001b[39m\u001b[23m \"basic.4y\", \"high.school\", \"high.school\", \"basic.6y\", \"…\n",
            "$ default        \u001b[3m\u001b[90m<chr>\u001b[39m\u001b[23m \"no\", \"unknown\", \"no\", \"no\", \"no\", \"unknown\", \"no\", \"un…\n",
            "$ housing        \u001b[3m\u001b[90m<chr>\u001b[39m\u001b[23m \"no\", \"no\", \"yes\", \"no\", \"no\", \"no\", \"no\", \"no\", \"yes\",…\n",
            "$ loan           \u001b[3m\u001b[90m<chr>\u001b[39m\u001b[23m \"no\", \"no\", \"no\", \"no\", \"yes\", \"no\", \"no\", \"no\", \"no\", …\n",
            "$ contact        \u001b[3m\u001b[90m<chr>\u001b[39m\u001b[23m \"telephone\", \"telephone\", \"telephone\", \"telephone\", \"te…\n",
            "$ month          \u001b[3m\u001b[90m<chr>\u001b[39m\u001b[23m \"may\", \"may\", \"may\", \"may\", \"may\", \"may\", \"may\", \"may\",…\n",
            "$ day_of_week    \u001b[3m\u001b[90m<chr>\u001b[39m\u001b[23m \"mon\", \"mon\", \"mon\", \"mon\", \"mon\", \"mon\", \"mon\", \"mon\",…\n",
            "$ duration       \u001b[3m\u001b[90m<dbl>\u001b[39m\u001b[23m 261, 149, 226, 151, 307, 198, 139, 217, 380, 50, 55, 22…\n",
            "$ campaign       \u001b[3m\u001b[90m<dbl>\u001b[39m\u001b[23m 1, 1, 1, 1, 1, 1, 1, 1, 1, 1, 1, 1, 1, 1, 1, 1, 1, 1, 1…\n",
            "$ pdays          \u001b[3m\u001b[90m<dbl>\u001b[39m\u001b[23m 999, 999, 999, 999, 999, 999, 999, 999, 999, 999, 999, …\n",
            "$ previous       \u001b[3m\u001b[90m<dbl>\u001b[39m\u001b[23m 0, 0, 0, 0, 0, 0, 0, 0, 0, 0, 0, 0, 0, 0, 0, 0, 0, 0, 0…\n",
            "$ poutcome       \u001b[3m\u001b[90m<chr>\u001b[39m\u001b[23m \"nonexistent\", \"nonexistent\", \"nonexistent\", \"nonexiste…\n",
            "$ emp.var.rate   \u001b[3m\u001b[90m<dbl>\u001b[39m\u001b[23m 1.1, 1.1, 1.1, 1.1, 1.1, 1.1, 1.1, 1.1, 1.1, 1.1, 1.1, …\n",
            "$ cons.price.idx \u001b[3m\u001b[90m<dbl>\u001b[39m\u001b[23m 93.994, 93.994, 93.994, 93.994, 93.994, 93.994, 93.994,…\n",
            "$ cons.conf.idx  \u001b[3m\u001b[90m<dbl>\u001b[39m\u001b[23m -36.4, -36.4, -36.4, -36.4, -36.4, -36.4, -36.4, -36.4,…\n",
            "$ euribor3m      \u001b[3m\u001b[90m<dbl>\u001b[39m\u001b[23m 4.857, 4.857, 4.857, 4.857, 4.857, 4.857, 4.857, 4.857,…\n",
            "$ nr.employed    \u001b[3m\u001b[90m<dbl>\u001b[39m\u001b[23m 5191, 5191, 5191, 5191, 5191, 5191, 5191, 5191, 5191, 5…\n",
            "$ y              \u001b[3m\u001b[90m<chr>\u001b[39m\u001b[23m \"no\", \"no\", \"no\", \"no\", \"no\", \"no\", \"no\", \"no\", \"no\", \"…\n"
          ]
        }
      ],
      "source": [
        "#  bank data import\n",
        "df_bank<-read_delim(\"https://raw.githubusercontent.com/iceman025/bank-assignment-02/main/bank-additional-full.csv\",delim = \";\")\n",
        "str(df_bank)\n",
        "head(df_bank)\n",
        "sum(is.na(df_bank))\n",
        "glimpse(df_bank)"
      ]
    },
    {
      "cell_type": "code",
      "execution_count": 16,
      "metadata": {
        "id": "THwf1Oh8D2BS",
        "colab": {
          "base_uri": "https://localhost:8080/",
          "height": 1000
        },
        "outputId": "5d8af333-8c1b-4006-8cdd-aec3a82e1301"
      },
      "outputs": [
        {
          "output_type": "display_data",
          "data": {
            "text/plain": [
              "\n",
              "Call:\n",
              "glm(formula = as.factor(y) ~ duration + month + poutcome + emp.var.rate + \n",
              "    job + cons.price.idx + contact + euribor3m + day_of_week + \n",
              "    campaign + pdays + education + cons.conf.idx + default, family = \"binomial\", \n",
              "    data = df_bank)\n",
              "\n",
              "Deviance Residuals: \n",
              "    Min       1Q   Median       3Q      Max  \n",
              "-6.0080  -0.2976  -0.1855  -0.1346   3.3263  \n",
              "\n",
              "Coefficients:\n",
              "                               Estimate Std. Error z value Pr(>|z|)    \n",
              "(Intercept)                  -1.713e+02  1.032e+01 -16.597  < 2e-16 ***\n",
              "duration                      4.707e-03  7.457e-05  63.125  < 2e-16 ***\n",
              "monthaug                      7.622e-01  1.075e-01   7.092 1.32e-12 ***\n",
              "monthdec                      1.809e-01  1.958e-01   0.924 0.355648    \n",
              "monthjul                      1.341e-01  9.579e-02   1.400 0.161423    \n",
              "monthjun                     -4.037e-01  1.064e-01  -3.793 0.000149 ***\n",
              "monthmar                      1.870e+00  1.169e-01  15.994  < 2e-16 ***\n",
              "monthmay                     -5.017e-01  7.610e-02  -6.593 4.31e-11 ***\n",
              "monthnov                     -5.214e-01  1.071e-01  -4.871 1.11e-06 ***\n",
              "monthoct                      3.543e-02  1.240e-01   0.286 0.774999    \n",
              "monthsep                      1.532e-01  1.311e-01   1.169 0.242383    \n",
              "poutcomenonexistent           4.966e-01  6.411e-02   7.746 9.50e-15 ***\n",
              "poutcomesuccess               1.022e+00  2.039e-01   5.011 5.40e-07 ***\n",
              "emp.var.rate                 -1.607e+00  1.133e-01 -14.185  < 2e-16 ***\n",
              "jobblue-collar               -2.353e-01  7.966e-02  -2.954 0.003135 ** \n",
              "jobentrepreneur              -1.822e-01  1.253e-01  -1.454 0.145835    \n",
              "jobhousemaid                 -2.966e-02  1.467e-01  -0.202 0.839781    \n",
              "jobmanagement                -6.865e-02  8.439e-02  -0.813 0.415964    \n",
              "jobretired                    2.784e-01  9.144e-02   3.044 0.002332 ** \n",
              "jobself-employed             -1.607e-01  1.178e-01  -1.364 0.172430    \n",
              "jobservices                  -1.428e-01  8.604e-02  -1.660 0.096876 .  \n",
              "jobstudent                    2.312e-01  1.052e-01   2.197 0.028007 *  \n",
              "jobtechnician                -1.591e-02  7.107e-02  -0.224 0.822872    \n",
              "jobunemployed                 1.737e-02  1.278e-01   0.136 0.891855    \n",
              "jobunknown                   -7.190e-02  2.379e-01  -0.302 0.762476    \n",
              "cons.price.idx                1.780e+00  1.070e-01  16.628  < 2e-16 ***\n",
              "contacttelephone             -6.067e-01  7.360e-02  -8.244  < 2e-16 ***\n",
              "euribor3m                     5.012e-01  8.585e-02   5.838 5.29e-09 ***\n",
              "day_of_weekmon               -1.208e-01  6.605e-02  -1.829 0.067381 .  \n",
              "day_of_weekthu                5.635e-02  6.404e-02   0.880 0.378916    \n",
              "day_of_weektue                8.948e-02  6.572e-02   1.362 0.173313    \n",
              "day_of_weekwed                1.690e-01  6.559e-02   2.577 0.009968 ** \n",
              "campaign                     -4.026e-02  1.157e-02  -3.481 0.000499 ***\n",
              "pdays                        -8.542e-04  2.035e-04  -4.198 2.70e-05 ***\n",
              "educationbasic.6y             1.220e-01  1.201e-01   1.016 0.309592    \n",
              "educationbasic.9y             3.529e-03  9.461e-02   0.037 0.970248    \n",
              "educationhigh.school          5.682e-02  9.082e-02   0.626 0.531563    \n",
              "educationilliterate           1.070e+00  7.547e-01   1.418 0.156287    \n",
              "educationprofessional.course  1.175e-01  1.007e-01   1.168 0.242971    \n",
              "educationuniversity.degree    2.034e-01  9.047e-02   2.249 0.024535 *  \n",
              "educationunknown              1.565e-01  1.194e-01   1.311 0.189718    \n",
              "cons.conf.idx                 1.108e-02  5.485e-03   2.021 0.043328 *  \n",
              "defaultunknown               -3.018e-01  6.695e-02  -4.508 6.55e-06 ***\n",
              "defaultyes                   -7.317e+00  1.134e+02  -0.065 0.948563    \n",
              "---\n",
              "Signif. codes:  0 ‘***’ 0.001 ‘**’ 0.01 ‘*’ 0.05 ‘.’ 0.1 ‘ ’ 1\n",
              "\n",
              "(Dispersion parameter for binomial family taken to be 1)\n",
              "\n",
              "    Null deviance: 28999  on 41187  degrees of freedom\n",
              "Residual deviance: 17085  on 41144  degrees of freedom\n",
              "AIC: 17173\n",
              "\n",
              "Number of Fisher Scoring iterations: 10\n"
            ]
          },
          "metadata": {}
        }
      ],
      "source": [
        "# model building \n",
        "model_full <- glm(formula =as.factor(y)~duration + month + poutcome + emp.var.rate + job + cons.price.idx + \n",
        "    contact + euribor3m + day_of_week + campaign + pdays + education + \n",
        "    cons.conf.idx + default , \n",
        " family = \"binomial\", data = df_bank)\n",
        "     summary(model_full)"
      ]
    },
    {
      "cell_type": "code",
      "execution_count": 17,
      "metadata": {
        "id": "gDSyHKFCF9GQ",
        "colab": {
          "base_uri": "https://localhost:8080/",
          "height": 238
        },
        "outputId": "7f7fd8c6-b431-4250-ea31-1ab363413958"
      },
      "outputs": [
        {
          "output_type": "stream",
          "name": "stderr",
          "text": [
            "Warning message in data(df_bank):\n",
            "“data set ‘df_bank’ not found”\n"
          ]
        },
        {
          "output_type": "display_data",
          "data": {
            "text/html": [
              "<style>\n",
              ".dl-inline {width: auto; margin:0; padding: 0}\n",
              ".dl-inline>dt, .dl-inline>dd {float: none; width: auto; display: inline-block}\n",
              ".dl-inline>dt::after {content: \":\\0020\"; padding-right: .5ex}\n",
              ".dl-inline>dt:not(:first-of-type) {padding-left: .5ex}\n",
              "</style><dl class=dl-inline><dt>(Intercept)</dt><dd>-171.329892434769</dd><dt>duration</dt><dd>0.00470733459907694</dd><dt>monthaug</dt><dd>0.762166753358857</dd><dt>monthdec</dt><dd>0.180865302279899</dd><dt>monthjul</dt><dd>0.134137017429291</dd><dt>monthjun</dt><dd>-0.403663209624155</dd><dt>monthmar</dt><dd>1.87018099373823</dd><dt>monthmay</dt><dd>-0.501705711491501</dd><dt>monthnov</dt><dd>-0.521413536696587</dd><dt>monthoct</dt><dd>0.035434491706153</dd><dt>monthsep</dt><dd>0.153238962057151</dd><dt>poutcomenonexistent</dt><dd>0.496607327469247</dd><dt>poutcomesuccess</dt><dd>1.02172994590888</dd><dt>emp.var.rate</dt><dd>-1.60687263690015</dd><dt>jobblue-collar</dt><dd>-0.235336194636532</dd><dt>jobentrepreneur</dt><dd>-0.182249766150871</dd><dt>jobhousemaid</dt><dd>-0.0296572162395023</dd><dt>jobmanagement</dt><dd>-0.0686457293247644</dd><dt>jobretired</dt><dd>0.278373818092054</dd><dt>jobself-employed</dt><dd>-0.160743952390513</dd><dt>jobservices</dt><dd>-0.142838255220003</dd><dt>jobstudent</dt><dd>0.231181267563027</dd><dt>jobtechnician</dt><dd>-0.015908964208253</dd><dt>jobunemployed</dt><dd>0.0173689418550393</dd><dt>jobunknown</dt><dd>-0.0718952680526284</dd><dt>cons.price.idx</dt><dd>1.77969865698912</dd><dt>contacttelephone</dt><dd>-0.606745150633658</dd><dt>euribor3m</dt><dd>0.501179555570647</dd><dt>day_of_weekmon</dt><dd>-0.120821033529216</dd><dt>day_of_weekthu</dt><dd>0.0563470496357313</dd><dt>day_of_weektue</dt><dd>0.0894830898864212</dd><dt>day_of_weekwed</dt><dd>0.169015347474559</dd><dt>campaign</dt><dd>-0.040264508644827</dd><dt>pdays</dt><dd>-0.000854176464879978</dd><dt>educationbasic.6y</dt><dd>0.121984216154027</dd><dt>educationbasic.9y</dt><dd>0.00352863966643935</dd><dt>educationhigh.school</dt><dd>0.0568189660955084</dd><dt>educationilliterate</dt><dd>1.06992273604381</dd><dt>educationprofessional.course</dt><dd>0.117534062424288</dd><dt>educationuniversity.degree</dt><dd>0.203436275400123</dd><dt>educationunknown</dt><dd>0.156525968010504</dd><dt>cons.conf.idx</dt><dd>0.0110833333454464</dd><dt>defaultunknown</dt><dd>-0.301793166831745</dd><dt>defaultyes</dt><dd>-7.31700819274081</dd></dl>\n"
            ],
            "text/markdown": "(Intercept)\n:   -171.329892434769duration\n:   0.00470733459907694monthaug\n:   0.762166753358857monthdec\n:   0.180865302279899monthjul\n:   0.134137017429291monthjun\n:   -0.403663209624155monthmar\n:   1.87018099373823monthmay\n:   -0.501705711491501monthnov\n:   -0.521413536696587monthoct\n:   0.035434491706153monthsep\n:   0.153238962057151poutcomenonexistent\n:   0.496607327469247poutcomesuccess\n:   1.02172994590888emp.var.rate\n:   -1.60687263690015jobblue-collar\n:   -0.235336194636532jobentrepreneur\n:   -0.182249766150871jobhousemaid\n:   -0.0296572162395023jobmanagement\n:   -0.0686457293247644jobretired\n:   0.278373818092054jobself-employed\n:   -0.160743952390513jobservices\n:   -0.142838255220003jobstudent\n:   0.231181267563027jobtechnician\n:   -0.015908964208253jobunemployed\n:   0.0173689418550393jobunknown\n:   -0.0718952680526284cons.price.idx\n:   1.77969865698912contacttelephone\n:   -0.606745150633658euribor3m\n:   0.501179555570647day_of_weekmon\n:   -0.120821033529216day_of_weekthu\n:   0.0563470496357313day_of_weektue\n:   0.0894830898864212day_of_weekwed\n:   0.169015347474559campaign\n:   -0.040264508644827pdays\n:   -0.000854176464879978educationbasic.6y\n:   0.121984216154027educationbasic.9y\n:   0.00352863966643935educationhigh.school\n:   0.0568189660955084educationilliterate\n:   1.06992273604381educationprofessional.course\n:   0.117534062424288educationuniversity.degree\n:   0.203436275400123educationunknown\n:   0.156525968010504cons.conf.idx\n:   0.0110833333454464defaultunknown\n:   -0.301793166831745defaultyes\n:   -7.31700819274081\n\n",
            "text/latex": "\\begin{description*}\n\\item[(Intercept)] -171.329892434769\n\\item[duration] 0.00470733459907694\n\\item[monthaug] 0.762166753358857\n\\item[monthdec] 0.180865302279899\n\\item[monthjul] 0.134137017429291\n\\item[monthjun] -0.403663209624155\n\\item[monthmar] 1.87018099373823\n\\item[monthmay] -0.501705711491501\n\\item[monthnov] -0.521413536696587\n\\item[monthoct] 0.035434491706153\n\\item[monthsep] 0.153238962057151\n\\item[poutcomenonexistent] 0.496607327469247\n\\item[poutcomesuccess] 1.02172994590888\n\\item[emp.var.rate] -1.60687263690015\n\\item[jobblue-collar] -0.235336194636532\n\\item[jobentrepreneur] -0.182249766150871\n\\item[jobhousemaid] -0.0296572162395023\n\\item[jobmanagement] -0.0686457293247644\n\\item[jobretired] 0.278373818092054\n\\item[jobself-employed] -0.160743952390513\n\\item[jobservices] -0.142838255220003\n\\item[jobstudent] 0.231181267563027\n\\item[jobtechnician] -0.015908964208253\n\\item[jobunemployed] 0.0173689418550393\n\\item[jobunknown] -0.0718952680526284\n\\item[cons.price.idx] 1.77969865698912\n\\item[contacttelephone] -0.606745150633658\n\\item[euribor3m] 0.501179555570647\n\\item[day\\textbackslash{}\\_of\\textbackslash{}\\_weekmon] -0.120821033529216\n\\item[day\\textbackslash{}\\_of\\textbackslash{}\\_weekthu] 0.0563470496357313\n\\item[day\\textbackslash{}\\_of\\textbackslash{}\\_weektue] 0.0894830898864212\n\\item[day\\textbackslash{}\\_of\\textbackslash{}\\_weekwed] 0.169015347474559\n\\item[campaign] -0.040264508644827\n\\item[pdays] -0.000854176464879978\n\\item[educationbasic.6y] 0.121984216154027\n\\item[educationbasic.9y] 0.00352863966643935\n\\item[educationhigh.school] 0.0568189660955084\n\\item[educationilliterate] 1.06992273604381\n\\item[educationprofessional.course] 0.117534062424288\n\\item[educationuniversity.degree] 0.203436275400123\n\\item[educationunknown] 0.156525968010504\n\\item[cons.conf.idx] 0.0110833333454464\n\\item[defaultunknown] -0.301793166831745\n\\item[defaultyes] -7.31700819274081\n\\end{description*}\n",
            "text/plain": [
              "                 (Intercept)                     duration \n",
              "               -1.713299e+02                 4.707335e-03 \n",
              "                    monthaug                     monthdec \n",
              "                7.621668e-01                 1.808653e-01 \n",
              "                    monthjul                     monthjun \n",
              "                1.341370e-01                -4.036632e-01 \n",
              "                    monthmar                     monthmay \n",
              "                1.870181e+00                -5.017057e-01 \n",
              "                    monthnov                     monthoct \n",
              "               -5.214135e-01                 3.543449e-02 \n",
              "                    monthsep          poutcomenonexistent \n",
              "                1.532390e-01                 4.966073e-01 \n",
              "             poutcomesuccess                 emp.var.rate \n",
              "                1.021730e+00                -1.606873e+00 \n",
              "              jobblue-collar              jobentrepreneur \n",
              "               -2.353362e-01                -1.822498e-01 \n",
              "                jobhousemaid                jobmanagement \n",
              "               -2.965722e-02                -6.864573e-02 \n",
              "                  jobretired             jobself-employed \n",
              "                2.783738e-01                -1.607440e-01 \n",
              "                 jobservices                   jobstudent \n",
              "               -1.428383e-01                 2.311813e-01 \n",
              "               jobtechnician                jobunemployed \n",
              "               -1.590896e-02                 1.736894e-02 \n",
              "                  jobunknown               cons.price.idx \n",
              "               -7.189527e-02                 1.779699e+00 \n",
              "            contacttelephone                    euribor3m \n",
              "               -6.067452e-01                 5.011796e-01 \n",
              "              day_of_weekmon               day_of_weekthu \n",
              "               -1.208210e-01                 5.634705e-02 \n",
              "              day_of_weektue               day_of_weekwed \n",
              "                8.948309e-02                 1.690153e-01 \n",
              "                    campaign                        pdays \n",
              "               -4.026451e-02                -8.541765e-04 \n",
              "           educationbasic.6y            educationbasic.9y \n",
              "                1.219842e-01                 3.528640e-03 \n",
              "        educationhigh.school          educationilliterate \n",
              "                5.681897e-02                 1.069923e+00 \n",
              "educationprofessional.course   educationuniversity.degree \n",
              "                1.175341e-01                 2.034363e-01 \n",
              "            educationunknown                cons.conf.idx \n",
              "                1.565260e-01                 1.108333e-02 \n",
              "              defaultunknown                   defaultyes \n",
              "               -3.017932e-01                -7.317008e+00 "
            ]
          },
          "metadata": {}
        }
      ],
      "source": [
        "# Leave-One-Out Cross-Validation\n",
        " library (boot)\n",
        "data(df_bank)\n",
        "\n",
        "lm.fit2 <- glm(formula =as.factor(y)~duration + month + poutcome + emp.var.rate + job + cons.price.idx + \n",
        "    contact + euribor3m + day_of_week + campaign + pdays + education + \n",
        "    cons.conf.idx + default , \n",
        " family = \"binomial\", data = df_bank)\n",
        "coef(lm.fit2)"
      ]
    },
    {
      "cell_type": "code",
      "source": [
        "# k-Fold Cross Validation of bank\n",
        "library (boot)\n",
        "data(df_bank)\n",
        "system.time({\n",
        "  bank.fit <- glm(formula =as.factor(y)~duration + month + poutcome + emp.var.rate + job + cons.price.idx + \n",
        "    contact + euribor3m + day_of_week + campaign + pdays + education + \n",
        "    cons.conf.idx + default , \n",
        " family = \"binomial\", data = df_bank)\n",
        "  cv.glm(df_bank, bank.fit, K = 10)\n",
        "})"
      ],
      "metadata": {
        "id": "qEkXfaN3e0m4",
        "colab": {
          "base_uri": "https://localhost:8080/",
          "height": 85
        },
        "outputId": "cb2dd6e6-0722-424f-f559-755d7fdfa296"
      },
      "execution_count": 18,
      "outputs": [
        {
          "output_type": "stream",
          "name": "stderr",
          "text": [
            "Warning message in data(df_bank):\n",
            "“data set ‘df_bank’ not found”\n"
          ]
        },
        {
          "output_type": "display_data",
          "data": {
            "text/plain": [
              "   user  system elapsed \n",
              "  9.127   0.149   9.288 "
            ]
          },
          "metadata": {}
        }
      ]
    },
    {
      "cell_type": "code",
      "source": [
        "#Bootstrap on Regression: step 1\n",
        "statistic2 <- function(df_bank, index) {\n",
        "  x <- df_bank$X[index]\n",
        "  y <- df_bank$Y[index]\n",
        "  (var(y) - cov(x, y)) / (var(x) + var(y) - 2* cov(x, y))\n",
        "}\n",
        "#Bootstrap on Regression:step 2\n",
        "install.packages(\"ISLR\")\n",
        "library (ISLR)\n",
        "library(boot)\n",
        "portfolio2 <- ISLR::Portfolio\n",
        "# compute our statistic for all 100 observations\n",
        "statistic(portfolio2, 1:100)\n",
        "#Bootstrap on Regression: step 3\n",
        "statistic(portfolio2, sample(100, 100, replace = TRUE))"
      ],
      "metadata": {
        "id": "6vvXPVtufL3i",
        "colab": {
          "base_uri": "https://localhost:8080/",
          "height": 102
        },
        "outputId": "760bc8ed-109a-4cd1-ae5e-8fd3e9db939d"
      },
      "execution_count": 19,
      "outputs": [
        {
          "output_type": "stream",
          "name": "stderr",
          "text": [
            "Installing package into ‘/usr/local/lib/R/site-library’\n",
            "(as ‘lib’ is unspecified)\n",
            "\n"
          ]
        },
        {
          "output_type": "display_data",
          "data": {
            "text/html": [
              "0.57583207459283"
            ],
            "text/markdown": "0.57583207459283",
            "text/latex": "0.57583207459283",
            "text/plain": [
              "[1] 0.5758321"
            ]
          },
          "metadata": {}
        },
        {
          "output_type": "display_data",
          "data": {
            "text/html": [
              "0.510927751521586"
            ],
            "text/markdown": "0.510927751521586",
            "text/latex": "0.510927751521586",
            "text/plain": [
              "[1] 0.5109278"
            ]
          },
          "metadata": {}
        }
      ]
    },
    {
      "cell_type": "code",
      "source": [
        "# #Bootstrap on Regression :step 4\n",
        "library(boot)\n",
        "set.seed(123)\n",
        "boot(portfolio2, statistic, R = 1000)"
      ],
      "metadata": {
        "id": "knf5q0kifoYT",
        "colab": {
          "base_uri": "https://localhost:8080/",
          "height": 204
        },
        "outputId": "07ebb493-2b10-4f75-f458-63e6214ff2d3"
      },
      "execution_count": 20,
      "outputs": [
        {
          "output_type": "display_data",
          "data": {
            "text/plain": [
              "\n",
              "ORDINARY NONPARAMETRIC BOOTSTRAP\n",
              "\n",
              "\n",
              "Call:\n",
              "boot(data = portfolio2, statistic = statistic, R = 1000)\n",
              "\n",
              "\n",
              "Bootstrap Statistics :\n",
              "     original      bias    std. error\n",
              "t1* 0.5758321 0.007544609  0.08952496"
            ]
          },
          "metadata": {}
        }
      ]
    },
    {
      "cell_type": "code",
      "source": [
        "#Bootstrap on Regression:step 5-\n",
        "#generate the bootstrap estimates we can also view the confidence intervals with boot.ci and plot our results\n",
        "set.seed(123)\n",
        "result2 <- boot(portfolio2, statistic2, R = 1000)\n",
        "boot.ci(result2, type = \"basic\")\n",
        "plot(result2)"
      ],
      "metadata": {
        "id": "Q9GURbVOfvuj",
        "colab": {
          "base_uri": "https://localhost:8080/",
          "height": 607
        },
        "outputId": "432b472d-1345-4622-9af3-f7584860eb60"
      },
      "execution_count": 21,
      "outputs": [
        {
          "output_type": "display_data",
          "data": {
            "text/plain": [
              "BOOTSTRAP CONFIDENCE INTERVAL CALCULATIONS\n",
              "Based on 1000 bootstrap replicates\n",
              "\n",
              "CALL : \n",
              "boot.ci(boot.out = result2, type = \"basic\")\n",
              "\n",
              "Intervals : \n",
              "Level      Basic         \n",
              "95%   ( 0.3918,  0.7449 )  \n",
              "Calculations and Intervals on Original Scale"
            ]
          },
          "metadata": {}
        },
        {
          "output_type": "display_data",
          "data": {
            "text/plain": [
              "Plot with title “Histogram of t”"
            ],
            "image/png": "[encoded data removed]"
          },
          "metadata": {
            "image/png": {
              "width": 420,
              "height": 420
            }
          }
        }
      ]
    },
    {
      "cell_type": "markdown",
      "source": [
        "**conclusion and analysis:**\n",
        "\n",
        "**1. non-numerical variables:**\n",
        "some variables are not numerical, such as cut,colour,clarity, so all need to be converted to numerical first.\n",
        "\n",
        "**2. data split: **\n",
        "  split the dataset into train and test :80%- 20%\n",
        "\n",
        "**3. two cross validation ways have beed used **\n",
        "*   Leave-One-Out Cross-Validation\n",
        "*   k-Fold Cross Validation\n",
        "Our results illustrate a sharp drop in the estimated test MSE between the linear and quadratic fits, but then no clear improvement from using higher-order polynomials. Thus, our unbiased MSEs suggest that using a 2nd polynomial (quadratic fit) is likely the optimal model balancing interpretation and low test errors.\n",
        "\n",
        "**4.  Bootstrap on Regression: **\n",
        "\n",
        "This indicates that the bootstrap estimate is 0.089\n"
      ],
      "metadata": {
        "id": "3kuMPFl2INUx"
      }
    }
  ],
  "metadata": {
    "colab": {
      "collapsed_sections": [],
      "name": "assignment 3-Resampling_Methods0809.ipynb",
      "provenance": [],
      "include_colab_link": true
    },
    "kernelspec": {
      "display_name": "R",
      "name": "ir"
    },
    "language_info": {
      "name": "R"
    }
  },
  "nbformat": 4,
  "nbformat_minor": 0
}